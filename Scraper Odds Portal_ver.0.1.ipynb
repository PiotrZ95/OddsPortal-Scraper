{
 "cells": [
  {
   "cell_type": "code",
   "execution_count": 2,
   "metadata": {},
   "outputs": [],
   "source": [
    "import requests\n",
    "from bs4 import BeautifulSoup"
   ]
  },
  {
   "cell_type": "code",
   "execution_count": 3,
   "metadata": {},
   "outputs": [],
   "source": [
    "page = requests.get(\"https://www.oddsportal.com\", headers={'User-Agent': 'Custom'})"
   ]
  },
  {
   "cell_type": "markdown",
   "metadata": {},
   "source": [
    "<font size= 5> Checking page status </font>"
   ]
  },
  {
   "cell_type": "code",
   "execution_count": 4,
   "metadata": {},
   "outputs": [
    {
     "name": "stdout",
     "output_type": "stream",
     "text": [
      "200\n"
     ]
    }
   ],
   "source": [
    "print (page.status_code)"
   ]
  },
  {
   "cell_type": "code",
   "execution_count": 5,
   "metadata": {},
   "outputs": [],
   "source": [
    "soup = BeautifulSoup(page.content, 'html.parser')\n",
    "side_menu = soup.find(id=\"side-menu\")\n",
    "sports = side_menu.find_all(class_=\"siconleft\")"
   ]
  },
  {
   "cell_type": "code",
   "execution_count": 11,
   "metadata": {},
   "outputs": [
    {
     "data": {
      "text/plain": [
       "[<a class=\"siconleft s1\" href=\"/soccer/\" onclick=\"return clickMenu('s_1');\">Soccer</a>,\n",
       " <a class=\"siconleft s2\" href=\"/tennis/\" onclick=\"return clickMenu('s_2');\">Tennis</a>,\n",
       " <a class=\"siconleft s3\" href=\"/basketball/\" onclick=\"return clickMenu('s_3');\">Basketball</a>,\n",
       " <a class=\"siconleft s4\" href=\"/hockey/\" onclick=\"return clickMenu('s_4');\">Hockey</a>,\n",
       " <a class=\"siconleft s7\" href=\"/handball/\" onclick=\"return clickMenu('s_7');\">Handball</a>,\n",
       " <a class=\"siconleft s6\" href=\"/baseball/\" onclick=\"return clickMenu('s_6');\">Baseball</a>,\n",
       " <a class=\"siconleft s5\" href=\"/american-football/\" onclick=\"return clickMenu('s_5');\">American Football</a>,\n",
       " <a class=\"siconleft s8\" href=\"/rugby-union/\" onclick=\"return clickMenu('s_8');\">Rugby Union</a>,\n",
       " <a class=\"siconleft s19\" href=\"/rugby-league/\" onclick=\"return clickMenu('s_19');\">Rugby League</a>,\n",
       " <a class=\"siconleft s12\" href=\"/volleyball/\" onclick=\"return clickMenu('s_12');\">Volleyball</a>,\n",
       " <a class=\"siconleft s11\" href=\"/futsal/\" onclick=\"return clickMenu('s_11');\">Futsal</a>,\n",
       " <a class=\"siconleft s13\" href=\"/cricket/\" onclick=\"return clickMenu('s_13');\">Cricket</a>,\n",
       " <a class=\"siconleft s14\" href=\"/darts/\" onclick=\"return clickMenu('s_14');\">Darts</a>,\n",
       " <a class=\"siconleft s16\" href=\"/boxing/\" onclick=\"return clickMenu('s_16');\">Boxing</a>,\n",
       " <a class=\"siconleft s18\" href=\"/aussie-rules/\" onclick=\"return clickMenu('s_18');\">Aussie Rules</a>,\n",
       " <a class=\"siconleft s22\" href=\"/water-polo/\" onclick=\"return clickMenu('s_22');\">Water polo</a>,\n",
       " <a class=\"siconleft s30\" href=\"/pesapallo/\" onclick=\"return clickMenu('s_30');\">Pesäpallo</a>,\n",
       " <a class=\"siconleft s36\" href=\"/esports/\" onclick=\"return clickMenu('s_36');\">eSports</a>,\n",
       " <a class=\"siconleft s28\" href=\"/mma/\" onclick=\"return clickMenu('s_28');\">MMA</a>]"
      ]
     },
     "execution_count": 11,
     "metadata": {},
     "output_type": "execute_result"
    }
   ],
   "source": [
    "sports"
   ]
  },
  {
   "cell_type": "markdown",
   "metadata": {},
   "source": [
    "<font size=5> Display sport list in menu with links </font>"
   ]
  },
  {
   "cell_type": "code",
   "execution_count": 20,
   "metadata": {},
   "outputs": [
    {
     "name": "stdout",
     "output_type": "stream",
     "text": [
      "Soccer\thttps://www.oddsportal.com/soccer/\n",
      "Tennis\thttps://www.oddsportal.com/tennis/\n",
      "Basketball\thttps://www.oddsportal.com/basketball/\n",
      "Hockey\thttps://www.oddsportal.com/hockey/\n",
      "Handball\thttps://www.oddsportal.com/handball/\n",
      "Baseball\thttps://www.oddsportal.com/baseball/\n",
      "American Football\thttps://www.oddsportal.com/american-football/\n",
      "Rugby Union\thttps://www.oddsportal.com/rugby-union/\n",
      "Rugby League\thttps://www.oddsportal.com/rugby-league/\n",
      "Volleyball\thttps://www.oddsportal.com/volleyball/\n",
      "Futsal\thttps://www.oddsportal.com/futsal/\n",
      "Cricket\thttps://www.oddsportal.com/cricket/\n",
      "Darts\thttps://www.oddsportal.com/darts/\n",
      "Boxing\thttps://www.oddsportal.com/boxing/\n",
      "Aussie Rules\thttps://www.oddsportal.com/aussie-rules/\n",
      "Water polo\thttps://www.oddsportal.com/water-polo/\n",
      "Pesäpallo\thttps://www.oddsportal.com/pesapallo/\n",
      "eSports\thttps://www.oddsportal.com/esports/\n",
      "MMA\thttps://www.oddsportal.com/mma/\n"
     ]
    }
   ],
   "source": [
    "for q in sports:\n",
    "    soup2 = BeautifulSoup(str(q), 'html.parser')\n",
    "    sport = soup2.find(\"a\", {\"class\":\"siconleft\"})\n",
    "    href = sport.attrs['href']\n",
    "\n",
    "    print(sport.text+\"\\t\"+ \"https://www.oddsportal.com\"+href)\n",
    "    "
   ]
  }
 ],
 "metadata": {
  "kernelspec": {
   "display_name": "Python 3",
   "language": "python",
   "name": "python3"
  },
  "language_info": {
   "codemirror_mode": {
    "name": "ipython",
    "version": 3
   },
   "file_extension": ".py",
   "mimetype": "text/x-python",
   "name": "python",
   "nbconvert_exporter": "python",
   "pygments_lexer": "ipython3",
   "version": "3.7.3"
  }
 },
 "nbformat": 4,
 "nbformat_minor": 2
}
